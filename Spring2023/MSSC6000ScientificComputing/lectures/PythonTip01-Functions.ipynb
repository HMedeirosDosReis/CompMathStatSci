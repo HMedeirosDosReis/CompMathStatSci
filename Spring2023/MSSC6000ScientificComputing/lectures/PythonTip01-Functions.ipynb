{
 "cells": [
  {
   "cell_type": "markdown",
   "id": "collectible-interval",
   "metadata": {},
   "source": [
    "# Python Tip #1: Functions"
   ]
  },
  {
   "cell_type": "markdown",
   "id": "warming-wiring",
   "metadata": {},
   "source": [
    "Functions are separately defined code snippets that you can then use in your main code."
   ]
  },
  {
   "cell_type": "code",
   "execution_count": 1,
   "id": "objective-korean",
   "metadata": {},
   "outputs": [],
   "source": [
    "def double(number): # arguments = input\n",
    "    new_number = 2*number\n",
    "    return new_number"
   ]
  },
  {
   "cell_type": "code",
   "execution_count": 2,
   "id": "metric-monday",
   "metadata": {},
   "outputs": [
    {
     "data": {
      "text/plain": [
       "10"
      ]
     },
     "execution_count": 2,
     "metadata": {},
     "output_type": "execute_result"
    }
   ],
   "source": [
    "double(5)"
   ]
  },
  {
   "cell_type": "code",
   "execution_count": 5,
   "id": "announced-spokesman",
   "metadata": {},
   "outputs": [],
   "source": [
    "def print_hello():\n",
    "    print(\"hello\")"
   ]
  },
  {
   "cell_type": "code",
   "execution_count": 6,
   "id": "american-contemporary",
   "metadata": {},
   "outputs": [
    {
     "name": "stdout",
     "output_type": "stream",
     "text": [
      "hello\n"
     ]
    }
   ],
   "source": [
    "print_hello()"
   ]
  },
  {
   "cell_type": "code",
   "execution_count": null,
   "id": "productive-illness",
   "metadata": {},
   "outputs": [],
   "source": []
  },
  {
   "cell_type": "code",
   "execution_count": 7,
   "id": "moving-lending",
   "metadata": {},
   "outputs": [],
   "source": [
    "def double(number=7): # number will default to 7 if you don't specify it\n",
    "    new_number = 2*number\n",
    "    return new_number"
   ]
  },
  {
   "cell_type": "code",
   "execution_count": 8,
   "id": "answering-textbook",
   "metadata": {},
   "outputs": [
    {
     "data": {
      "text/plain": [
       "14"
      ]
     },
     "execution_count": 8,
     "metadata": {},
     "output_type": "execute_result"
    }
   ],
   "source": [
    "double()"
   ]
  },
  {
   "cell_type": "code",
   "execution_count": 9,
   "id": "assured-regard",
   "metadata": {},
   "outputs": [
    {
     "data": {
      "text/plain": [
       "10"
      ]
     },
     "execution_count": 9,
     "metadata": {},
     "output_type": "execute_result"
    }
   ],
   "source": [
    "double(5)"
   ]
  },
  {
   "cell_type": "code",
   "execution_count": 10,
   "id": "black-sheet",
   "metadata": {},
   "outputs": [
    {
     "data": {
      "text/plain": [
       "10"
      ]
     },
     "execution_count": 10,
     "metadata": {},
     "output_type": "execute_result"
    }
   ],
   "source": [
    "double(number=5)"
   ]
  },
  {
   "cell_type": "code",
   "execution_count": 11,
   "id": "continental-delivery",
   "metadata": {},
   "outputs": [],
   "source": [
    "def double(number): # arguments = input\n",
    "    new_number = 2*number\n",
    "    return new_number"
   ]
  },
  {
   "cell_type": "markdown",
   "id": "greater-motel",
   "metadata": {},
   "source": [
    "\"Lambda Functions\" sound very fancy, but they are just a quicker way to define very simple functions."
   ]
  },
  {
   "cell_type": "markdown",
   "id": "serial-explanation",
   "metadata": {},
   "source": [
    "```py\n",
    "double = lambda x : 2*x\n",
    "```"
   ]
  },
  {
   "cell_type": "markdown",
   "id": "worth-mystery",
   "metadata": {},
   "source": [
    "`   [name] = lambda [inputs] : [outputs]`"
   ]
  },
  {
   "cell_type": "code",
   "execution_count": 12,
   "id": "allied-matthew",
   "metadata": {},
   "outputs": [
    {
     "data": {
      "text/plain": [
       "10"
      ]
     },
     "execution_count": 12,
     "metadata": {},
     "output_type": "execute_result"
    }
   ],
   "source": [
    "new_double = lambda number : 2*number\n",
    "new_double(5)"
   ]
  },
  {
   "cell_type": "code",
   "execution_count": 13,
   "id": "together-frederick",
   "metadata": {},
   "outputs": [],
   "source": [
    "combine = lambda x, y: 2*x + 3 * y**2"
   ]
  },
  {
   "cell_type": "code",
   "execution_count": 14,
   "id": "bronze-dynamics",
   "metadata": {},
   "outputs": [
    {
     "data": {
      "text/plain": [
       "22"
      ]
     },
     "execution_count": 14,
     "metadata": {},
     "output_type": "execute_result"
    }
   ],
   "source": [
    "combine(5,2)"
   ]
  },
  {
   "cell_type": "code",
   "execution_count": 15,
   "id": "turkish-diploma",
   "metadata": {},
   "outputs": [],
   "source": [
    "#default argument with a lambda function\n",
    "\n",
    "new_combine = lambda x, y=1:2*x+3*y**2"
   ]
  },
  {
   "cell_type": "code",
   "execution_count": 16,
   "id": "7bfcc43e",
   "metadata": {},
   "outputs": [
    {
     "data": {
      "text/plain": [
       "22"
      ]
     },
     "execution_count": 16,
     "metadata": {},
     "output_type": "execute_result"
    }
   ],
   "source": [
    "new_combine(5,2)"
   ]
  },
  {
   "cell_type": "code",
   "execution_count": 17,
   "id": "6a92a06c",
   "metadata": {},
   "outputs": [
    {
     "data": {
      "text/plain": [
       "13"
      ]
     },
     "execution_count": 17,
     "metadata": {},
     "output_type": "execute_result"
    }
   ],
   "source": [
    "new_combine(5)"
   ]
  },
  {
   "cell_type": "code",
   "execution_count": 18,
   "id": "d98fd8c8",
   "metadata": {},
   "outputs": [
    {
     "ename": "SyntaxError",
     "evalue": "non-default argument follows default argument (3826792829.py, line 1)",
     "output_type": "error",
     "traceback": [
      "\u001b[1;36m  File \u001b[1;32m\"C:\\Users\\hhenr\\AppData\\Local\\Temp\\ipykernel_2664\\3826792829.py\"\u001b[1;36m, line \u001b[1;32m1\u001b[0m\n\u001b[1;33m    def example(x=3,y):\u001b[0m\n\u001b[1;37m                     ^\u001b[0m\n\u001b[1;31mSyntaxError\u001b[0m\u001b[1;31m:\u001b[0m non-default argument follows default argument\n"
     ]
    }
   ],
   "source": [
    "def example(x=3,y): #cant do, defaults need to go after \n",
    "    return x+y"
   ]
  },
  {
   "cell_type": "code",
   "execution_count": 19,
   "id": "16a787e5",
   "metadata": {},
   "outputs": [],
   "source": [
    "def example(x,y=3): \n",
    "    return x+y"
   ]
  },
  {
   "cell_type": "code",
   "execution_count": 20,
   "id": "79fbfbf6",
   "metadata": {},
   "outputs": [
    {
     "data": {
      "text/plain": [
       "4"
      ]
     },
     "execution_count": 20,
     "metadata": {},
     "output_type": "execute_result"
    }
   ],
   "source": [
    "example(y=1,x=3)"
   ]
  },
  {
   "cell_type": "markdown",
   "id": "subtle-prompt",
   "metadata": {},
   "source": [
    "They are often useful (as we'll see later) for extracting one component of a tuple or list."
   ]
  },
  {
   "cell_type": "code",
   "execution_count": 21,
   "id": "found-minute",
   "metadata": {},
   "outputs": [],
   "source": [
    "second_component = lambda r : r[1]"
   ]
  },
  {
   "cell_type": "code",
   "execution_count": 22,
   "id": "individual-stevens",
   "metadata": {},
   "outputs": [
    {
     "data": {
      "text/plain": [
       "-8"
      ]
     },
     "execution_count": 22,
     "metadata": {},
     "output_type": "execute_result"
    }
   ],
   "source": [
    "second_component([5, -8, 1])"
   ]
  },
  {
   "cell_type": "markdown",
   "id": "applied-lawrence",
   "metadata": {},
   "source": [
    "This is totally equivalent to:"
   ]
  },
  {
   "cell_type": "markdown",
   "id": "expanded-advice",
   "metadata": {},
   "source": [
    "```py\n",
    "def second_component(r):\n",
    "    return r[1]\n",
    "```"
   ]
  },
  {
   "cell_type": "markdown",
   "id": "automated-fitting",
   "metadata": {},
   "source": [
    "This is mostly useful when you just want to use the function in one spot, and not define it forever."
   ]
  },
  {
   "cell_type": "markdown",
   "id": "fancy-edmonton",
   "metadata": {},
   "source": [
    "When sorting a list, you can give it a \"key\" function to tell it what to sort by."
   ]
  },
  {
   "cell_type": "code",
   "execution_count": 24,
   "id": "interracial-fifteen",
   "metadata": {},
   "outputs": [
    {
     "name": "stdout",
     "output_type": "stream",
     "text": [
      "[-5, 1, 0, 7, -10]\n",
      "[-10, -5, 0, 1, 7]\n"
     ]
    }
   ],
   "source": [
    "L = [-5, 1, 0, 7, -10]\n",
    "print(L)\n",
    "L.sort()\n",
    "print(L)"
   ]
  },
  {
   "cell_type": "code",
   "execution_count": 25,
   "id": "educated-jurisdiction",
   "metadata": {},
   "outputs": [],
   "source": [
    "L.sort(key=lambda x : abs(x))"
   ]
  },
  {
   "cell_type": "code",
   "execution_count": 26,
   "id": "useful-container",
   "metadata": {},
   "outputs": [
    {
     "data": {
      "text/plain": [
       "[0, 1, -5, 7, -10]"
      ]
     },
     "execution_count": 26,
     "metadata": {},
     "output_type": "execute_result"
    }
   ],
   "source": [
    "L"
   ]
  },
  {
   "cell_type": "code",
   "execution_count": null,
   "id": "pressed-starter",
   "metadata": {},
   "outputs": [],
   "source": []
  },
  {
   "cell_type": "code",
   "execution_count": 27,
   "id": "analyzed-myanmar",
   "metadata": {},
   "outputs": [],
   "source": [
    "L = [(0, 3), (-1, 7), (2, 5)]"
   ]
  },
  {
   "cell_type": "code",
   "execution_count": 28,
   "id": "aggressive-experience",
   "metadata": {},
   "outputs": [
    {
     "data": {
      "text/plain": [
       "[(-1, 7), (0, 3), (2, 5)]"
      ]
     },
     "execution_count": 28,
     "metadata": {},
     "output_type": "execute_result"
    }
   ],
   "source": [
    "sorted(L)"
   ]
  },
  {
   "cell_type": "code",
   "execution_count": 29,
   "id": "endless-relation",
   "metadata": {},
   "outputs": [
    {
     "data": {
      "text/plain": [
       "[(0, 3), (-1, 7), (2, 5)]"
      ]
     },
     "execution_count": 29,
     "metadata": {},
     "output_type": "execute_result"
    }
   ],
   "source": [
    "L"
   ]
  },
  {
   "cell_type": "code",
   "execution_count": 30,
   "id": "impaired-rover",
   "metadata": {},
   "outputs": [
    {
     "data": {
      "text/plain": [
       "[(0, 3), (2, 5), (-1, 7)]"
      ]
     },
     "execution_count": 30,
     "metadata": {},
     "output_type": "execute_result"
    }
   ],
   "source": [
    "sorted(L, key=lambda x : x[1])"
   ]
  },
  {
   "cell_type": "code",
   "execution_count": 31,
   "id": "communist-occasions",
   "metadata": {},
   "outputs": [
    {
     "name": "stdout",
     "output_type": "stream",
     "text": [
      "[-3, 4, 0]\n",
      "[-3, 0, 4]\n"
     ]
    }
   ],
   "source": [
    "\n",
    "#when you do L.sort(), it sorts the variable in place\n",
    "#when you do sorted(L), it leaves L alone and returns a new list\n",
    "#that has been sorted\n",
    "L=[-3,4,0]\n",
    "R = sorted(L)\n",
    "print(L)\n",
    "print(R)"
   ]
  },
  {
   "cell_type": "code",
   "execution_count": 32,
   "id": "fb28e41e",
   "metadata": {},
   "outputs": [
    {
     "name": "stdout",
     "output_type": "stream",
     "text": [
      "[-3, 0, 4]\n"
     ]
    }
   ],
   "source": [
    "L.sort()\n",
    "print(L)"
   ]
  }
 ],
 "metadata": {
  "kernelspec": {
   "display_name": "Python 3 (ipykernel)",
   "language": "python",
   "name": "python3"
  },
  "language_info": {
   "codemirror_mode": {
    "name": "ipython",
    "version": 3
   },
   "file_extension": ".py",
   "mimetype": "text/x-python",
   "name": "python",
   "nbconvert_exporter": "python",
   "pygments_lexer": "ipython3",
   "version": "3.9.13"
  }
 },
 "nbformat": 4,
 "nbformat_minor": 5
}
